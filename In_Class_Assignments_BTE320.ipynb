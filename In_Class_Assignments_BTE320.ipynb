{
  "nbformat": 4,
  "nbformat_minor": 0,
  "metadata": {
    "colab": {
      "provenance": [],
      "authorship_tag": "ABX9TyPXIRkSX5GD6ChV7jYJqbiZ",
      "include_colab_link": true
    },
    "kernelspec": {
      "name": "python3",
      "display_name": "Python 3"
    },
    "language_info": {
      "name": "python"
    }
  },
  "cells": [
    {
      "cell_type": "markdown",
      "metadata": {
        "id": "view-in-github",
        "colab_type": "text"
      },
      "source": [
        "<a href=\"https://colab.research.google.com/github/alvarovillagranm/BTE320/blob/main/In_Class_Assignments_BTE320.ipynb\" target=\"_parent\"><img src=\"https://colab.research.google.com/assets/colab-badge.svg\" alt=\"Open In Colab\"/></a>"
      ]
    },
    {
      "cell_type": "code",
      "execution_count": 29,
      "metadata": {
        "colab": {
          "base_uri": "https://localhost:8080/"
        },
        "id": "l_iKfBsUgfj6",
        "outputId": "e6e26067-47d2-4e49-b178-c5b3daddc0d8"
      },
      "outputs": [
        {
          "output_type": "stream",
          "name": "stdout",
          "text": [
            "Enter Sales ($): 12000\n",
            "Enter Costs of Good sold (%): 40\n",
            "Enter Tax Rate (%): 30\n",
            "Cost of Goods sold: $4800.0\n",
            "Gross Profit: $7200.0\n",
            "Taxes Paid: $2160.0\n",
            "Net Income: $5040.0\n"
          ]
        }
      ],
      "source": [
        "# Inputs: sales, cogs_pct, tax_rate\n",
        "sales = float(input(\"Enter Sales ($): \"))\n",
        "\n",
        "cogs_pct = float(input(\"Enter Costs of Good sold (%): \"))\n",
        "\n",
        "tax_rate = float(input(\"Enter Tax Rate (%): \"))\n",
        "\n",
        "\"\"\"\n",
        "I did float for cogs pct because what if it is 40.3% COGS\n",
        "\"\"\"\n",
        "\n",
        "#Processes: calculate actual COGS\n",
        "cogs = sales*cogs_pct/100\n",
        "\n",
        "grossProfit = sales - cogs\n",
        "\n",
        "taxes = grossProfit * (tax_rate/100)\n",
        "\n",
        "netIncome = grossProfit - taxes\n",
        "\n",
        "#Outputs: display cogs and grossProfit\n",
        "print(f\"Cost of Goods sold: ${cogs}\")\n",
        "print(f\"Gross Profit: ${grossProfit}\")\n",
        "print(f\"Taxes Paid: ${taxes}\")\n",
        "print(f\"Net Income: ${netIncome}\")\n"
      ]
    }
  ]
}