{
  "nbformat": 4,
  "nbformat_minor": 0,
  "metadata": {
    "colab": {
      "provenance": [],
      "authorship_tag": "ABX9TyPQDFElWFeMLJb+h6irF6cQ",
      "include_colab_link": true
    },
    "kernelspec": {
      "name": "python3",
      "display_name": "Python 3"
    },
    "language_info": {
      "name": "python"
    }
  },
  "cells": [
    {
      "cell_type": "markdown",
      "metadata": {
        "id": "view-in-github",
        "colab_type": "text"
      },
      "source": [
        "<a href=\"https://colab.research.google.com/github/alvarovillagranm/BTE320/blob/main/In_Class_Assignments_BTE320.ipynb\" target=\"_parent\"><img src=\"https://colab.research.google.com/assets/colab-badge.svg\" alt=\"Open In Colab\"/></a>"
      ]
    },
    {
      "cell_type": "code",
      "execution_count": null,
      "metadata": {
        "colab": {
          "base_uri": "https://localhost:8080/"
        },
        "id": "l_iKfBsUgfj6",
        "outputId": "e6e26067-47d2-4e49-b178-c5b3daddc0d8"
      },
      "outputs": [
        {
          "output_type": "stream",
          "name": "stdout",
          "text": [
            "Enter Sales ($): 12000\n",
            "Enter Costs of Good sold (%): 40\n",
            "Enter Tax Rate (%): 30\n",
            "Cost of Goods sold: $4800.0\n",
            "Gross Profit: $7200.0\n",
            "Taxes Paid: $2160.0\n",
            "Net Income: $5040.0\n"
          ]
        }
      ],
      "source": [
        "# Inputs: sales, cogs_pct, tax_rate\n",
        "sales = float(input(\"Enter Sales ($): \"))\n",
        "\n",
        "cogs_pct = float(input(\"Enter Costs of Good sold (%): \"))\n",
        "\n",
        "tax_rate = float(input(\"Enter Tax Rate (%): \"))\n",
        "\n",
        "\"\"\"\n",
        "I did float for cogs pct because what if it is 40.3% COGS\n",
        "\"\"\"\n",
        "\n",
        "#Processes: calculate actual COGS\n",
        "cogs = sales*cogs_pct/100\n",
        "\n",
        "grossProfit = sales - cogs\n",
        "\n",
        "taxes = grossProfit * (tax_rate/100)\n",
        "\n",
        "netIncome = grossProfit - taxes\n",
        "\n",
        "#Outputs: display cogs and grossProfit\n",
        "print(f\"Cost of Goods sold: ${cogs}\")\n",
        "print(f\"Gross Profit: ${grossProfit}\")\n",
        "print(f\"Taxes Paid: ${taxes}\")\n",
        "print(f\"Net Income: ${netIncome}\")\n"
      ]
    },
    {
      "cell_type": "code",
      "source": [
        "#Inputs: annual demand, reorder cost, holding cost\n",
        "demand= int(input(\"Enter Demand (Units/year): \"))\n",
        "\n",
        "reorder= float(input(\"Enter Reorder Cost ($/unit): \"))\n",
        "\n",
        "holding= float(input(\"Enter Holding Cost ($/unit/year): \"))\n",
        "\n",
        "#Processes : Calculate Economic Order Quantity (EOQ), minimize annual ordering and storing costs\n",
        "\n",
        "eoq= ((2*demand*reorder)/holding)**.5\n",
        "\n",
        "#Outputs: Display EOQ\n",
        "\n",
        "print(f\"Economic Order Quantity: {eoq} units\")"
      ],
      "metadata": {
        "colab": {
          "base_uri": "https://localhost:8080/"
        },
        "id": "xz0Q-bkSJPzm",
        "outputId": "0dbb8b25-0e65-436f-e0fc-0b1e02103033"
      },
      "execution_count": 11,
      "outputs": [
        {
          "output_type": "stream",
          "name": "stdout",
          "text": [
            "Enter Demand (Units/year): 100\n",
            "Enter Reorder Cost ($/unit): 1.5\n",
            "Enter Holding Cost ($/unit/year): 1\n",
            "Economic Order Quantity: 17.320508075688775 units\n"
          ]
        }
      ]
    }
  ]
}