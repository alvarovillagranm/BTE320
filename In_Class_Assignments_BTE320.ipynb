{
  "nbformat": 4,
  "nbformat_minor": 0,
  "metadata": {
    "colab": {
      "provenance": [],
      "authorship_tag": "ABX9TyNptEnbaLPKSnVbiNSpe16q",
      "include_colab_link": true
    },
    "kernelspec": {
      "name": "python3",
      "display_name": "Python 3"
    },
    "language_info": {
      "name": "python"
    }
  },
  "cells": [
    {
      "cell_type": "markdown",
      "metadata": {
        "id": "view-in-github",
        "colab_type": "text"
      },
      "source": [
        "<a href=\"https://colab.research.google.com/github/alvarovillagranm/BTE320/blob/main/In_Class_Assignments_BTE320.ipynb\" target=\"_parent\"><img src=\"https://colab.research.google.com/assets/colab-badge.svg\" alt=\"Open In Colab\"/></a>"
      ]
    },
    {
      "cell_type": "code",
      "execution_count": null,
      "metadata": {
        "colab": {
          "base_uri": "https://localhost:8080/"
        },
        "id": "l_iKfBsUgfj6",
        "outputId": "e6e26067-47d2-4e49-b178-c5b3daddc0d8"
      },
      "outputs": [
        {
          "output_type": "stream",
          "name": "stdout",
          "text": [
            "Enter Sales ($): 12000\n",
            "Enter Costs of Good sold (%): 40\n",
            "Enter Tax Rate (%): 30\n",
            "Cost of Goods sold: $4800.0\n",
            "Gross Profit: $7200.0\n",
            "Taxes Paid: $2160.0\n",
            "Net Income: $5040.0\n"
          ]
        }
      ],
      "source": [
        "# Inputs: sales, cogs_pct, tax_rate\n",
        "sales = float(input(\"Enter Sales ($): \"))\n",
        "\n",
        "cogs_pct = float(input(\"Enter Costs of Good sold (%): \"))\n",
        "\n",
        "tax_rate = float(input(\"Enter Tax Rate (%): \"))\n",
        "\n",
        "\"\"\"\n",
        "I did float for cogs pct because what if it is 40.3% COGS\n",
        "\"\"\"\n",
        "\n",
        "#Processes: calculate actual COGS\n",
        "cogs = sales*cogs_pct/100\n",
        "\n",
        "grossProfit = sales - cogs\n",
        "\n",
        "taxes = grossProfit * (tax_rate/100)\n",
        "\n",
        "netIncome = grossProfit - taxes\n",
        "\n",
        "#Outputs: display cogs and grossProfit\n",
        "print(f\"Cost of Goods sold: ${cogs}\")\n",
        "print(f\"Gross Profit: ${grossProfit}\")\n",
        "print(f\"Taxes Paid: ${taxes}\")\n",
        "print(f\"Net Income: ${netIncome}\")\n"
      ]
    },
    {
      "cell_type": "code",
      "source": [
        "#Inputs: annual demand, reorder cost, holding cost\n",
        "demand= int(input(\"Enter Demand (Units/year): \"))\n",
        "\n",
        "reorder= float(input(\"Enter Reorder Cost ($/unit): \"))\n",
        "\n",
        "holding= float(input(\"Enter Holding Cost ($/unit/year): \"))\n",
        "\n",
        "#Processes : Calculate Economic Order Quantity (EOQ), minimize annual ordering and storing costs\n",
        "\n",
        "eoq= ((2*demand*reorder)/holding)**.5\n",
        "\n",
        "#Outputs: Display EOQ\n",
        "\n",
        "print(f\"Economic Order Quantity: {eoq} units\")"
      ],
      "metadata": {
        "colab": {
          "base_uri": "https://localhost:8080/"
        },
        "id": "xz0Q-bkSJPzm",
        "outputId": "0dbb8b25-0e65-436f-e0fc-0b1e02103033"
      },
      "execution_count": null,
      "outputs": [
        {
          "output_type": "stream",
          "name": "stdout",
          "text": [
            "Enter Demand (Units/year): 100\n",
            "Enter Reorder Cost ($/unit): 1.5\n",
            "Enter Holding Cost ($/unit/year): 1\n",
            "Economic Order Quantity: 17.320508075688775 units\n"
          ]
        }
      ]
    },
    {
      "cell_type": "code",
      "source": [
        "n1 = float(input(\"Enter n1: \"))\n",
        "n2 = float(input(\"Enter n2: \"))\n",
        "op = input(\"Enter operator (+, -, *, /, //, **, %): \")\n",
        "\n",
        "res =  None\n",
        "\n",
        "if op == \"+\":\n",
        "  res = n1+n2\n",
        "elif op == \"-\":\n",
        "  res = n1-n2\n",
        "elif op == \"*\":\n",
        "  res = n1*n2\n",
        "elif op == \"/\":\n",
        "  res = n1/n2\n",
        "elif op == \"//\":\n",
        "  res = n1 // n2\n",
        "elif op == \"**\":\n",
        "  res = n1 ** n2\n",
        "elif op == \"%\":\n",
        "  res = n1 % n2\n",
        "else:\n",
        "  print(\"Invalid operator\")\n",
        "\n",
        "print(f\"result:{res}\")"
      ],
      "metadata": {
        "colab": {
          "base_uri": "https://localhost:8080/"
        },
        "id": "IkeO4dMBPTxa",
        "outputId": "cf7c6b92-359d-48f4-e00f-ca0d1819ec77"
      },
      "execution_count": null,
      "outputs": [
        {
          "output_type": "stream",
          "name": "stdout",
          "text": [
            "Enter n1: 8\n",
            "Enter n2: 9\n",
            "Enter operator (+, -, *, /, //, **, %): @\n",
            "Invalid operator\n",
            "result:None\n"
          ]
        }
      ]
    },
    {
      "cell_type": "code",
      "source": [
        "#Parking Garage (for/while loop)\n",
        "\n",
        "for h in range(1,9): #goes from 1 to 8\n",
        "  fee = 5 + 2.5*h\n",
        "  print(h,fee)\n"
      ],
      "metadata": {
        "colab": {
          "base_uri": "https://localhost:8080/"
        },
        "id": "eby3yIBrgYku",
        "outputId": "61c4fe0f-aec8-490a-9044-69a98af5dbfd"
      },
      "execution_count": null,
      "outputs": [
        {
          "output_type": "stream",
          "name": "stdout",
          "text": [
            "1 7.5\n",
            "2 10.0\n",
            "3 12.5\n",
            "4 15.0\n",
            "5 17.5\n",
            "6 20.0\n",
            "7 22.5\n",
            "8 25.0\n"
          ]
        }
      ]
    },
    {
      "cell_type": "code",
      "source": [
        "#Parking Garage (for/while loop); Add a minimum of $10 and cap of $20\n",
        "\n",
        "print(f\"Hours Fee\")\n",
        "print(f\"_________\")\n",
        "for h in range(1,9): #goes from 1 to 8\n",
        "  fee = 5 + 2.5*h\n",
        "  if fee <10:\n",
        "    fee = 10.0\n",
        "  elif fee > 20:\n",
        "    fee = 20.0\n",
        "  print(h,fee)"
      ],
      "metadata": {
        "id": "wVr8PAByj-W0",
        "colab": {
          "base_uri": "https://localhost:8080/"
        },
        "outputId": "f49a6f75-b5a8-4b23-b02b-23f3ebdee150"
      },
      "execution_count": null,
      "outputs": [
        {
          "output_type": "stream",
          "name": "stdout",
          "text": [
            "Hours Fee\n",
            "_________\n",
            "1 10.0\n",
            "2 10.0\n",
            "3 12.5\n",
            "4 15.0\n",
            "5 17.5\n",
            "6 20.0\n",
            "7 20.0\n",
            "8 20.0\n"
          ]
        }
      ]
    },
    {
      "cell_type": "code",
      "source": [
        "#Theather Profit\n",
        "\n",
        "print(f\"Ad Profit\")\n",
        "print(f\"________\")\n",
        "print(f\"\")\n",
        "\n",
        "\n",
        "for ad in range(0,201,25):\n",
        "  revenue= 10 * 20 + 10 * 2 * ad **0.5\n",
        "  expenses= 200 + ad\n",
        "  profit= revenue - expenses\n",
        "  print(ad, round(profit))"
      ],
      "metadata": {
        "colab": {
          "base_uri": "https://localhost:8080/"
        },
        "id": "7t9VUjpLSpzY",
        "outputId": "6b2645e7-b564-4043-87c9-bad31c91b209"
      },
      "execution_count": null,
      "outputs": [
        {
          "output_type": "stream",
          "name": "stdout",
          "text": [
            "Ad Profit\n",
            "________\n",
            "\n",
            "0 0\n",
            "25 75\n",
            "50 91\n",
            "75 98\n",
            "100 100\n",
            "125 99\n",
            "150 95\n",
            "175 90\n",
            "200 83\n"
          ]
        }
      ]
    },
    {
      "cell_type": "code",
      "source": [
        "num = int(input(\"Give a number: \"))\n",
        "L=[]\n",
        "while num !=0:\n",
        "  L.append(num)\n",
        "  num = int(input(\"Give a number: \"))\n",
        "L.sort(reverse=True)\n",
        "print(L)"
      ],
      "metadata": {
        "colab": {
          "base_uri": "https://localhost:8080/"
        },
        "id": "JwHEQWMAutm1",
        "outputId": "d25feaf1-60ec-4f60-f617-c9edc7b8428c"
      },
      "execution_count": null,
      "outputs": [
        {
          "output_type": "stream",
          "name": "stdout",
          "text": [
            "Give a number: 5\n",
            "Give a number: 6\n",
            "Give a number: 3\n",
            "Give a number: 0\n",
            "[6, 5, 3]\n"
          ]
        }
      ]
    },
    {
      "cell_type": "code",
      "source": [
        "import random  # we need this for the computer to choose randomly\n",
        "\n",
        "print(\"Welcome to the Rock, Paper, Scissors game!\")\n",
        "\n",
        "# Loop: keep playing while the user says 'yes'\n",
        "while True:\n",
        "    play = input(\"Do you want to play? (yes/no): \").lower() #this .lower makes a string into lower case only\n",
        "\n",
        "    if play != \"yes\":\n",
        "        print(\"Thanks for playing, goodbye!\")\n",
        "        break  # exit the loop if user doesn't type 'yes'\n",
        "\n",
        "    # User chooses\n",
        "    user = input(\"Choose rock, paper, or scissors: \").lower()\n",
        "\n",
        "    # Computer chooses randomly\n",
        "    computer = random.choice(['rock', 'paper', 'scissors'])\n",
        "    print(\"Computer chose:\", computer)\n",
        "\n",
        "    # Compare choices\n",
        "    if user == computer:\n",
        "        print(\"It's a tie!\")\n",
        "    elif (user == \"rock\" and computer == \"scissors\") or \\\n",
        "         (user == \"paper\" and computer == \"rock\") or \\\n",
        "         (user == \"scissors\" and computer == \"paper\"):\n",
        "        print(\"You win!\")\n",
        "    elif user in [\"rock\", \"paper\", \"scissors\"]:\n",
        "        print(\"Computer wins!\")\n",
        "    else:\n",
        "        print(\"Invalid input. Please choose rock, paper, or scissors.\")"
      ],
      "metadata": {
        "id": "NbP_UKChgA9N"
      },
      "execution_count": null,
      "outputs": []
    },
    {
      "cell_type": "code",
      "source": [
        "#Product Prices\n",
        "products ={\n",
        "    'P-01':9.95,\n",
        "    'P-02': 10.5\n",
        "}\n",
        "\n",
        "user = input(\"Enter product ID: \")\n",
        "\n",
        "if user in products:     #if user in products.keys() is the same as this if you are dealing with keys, not values\n",
        "  print(f'Product:{user}, Price: {products[user]}$')\n",
        "else:\n",
        "  print('Invalid Key')\n"
      ],
      "metadata": {
        "colab": {
          "base_uri": "https://localhost:8080/"
        },
        "id": "aNc7K7owwJ07",
        "outputId": "53ca7114-7b7c-4818-8531-d447fbfb5175"
      },
      "execution_count": 5,
      "outputs": [
        {
          "output_type": "stream",
          "name": "stdout",
          "text": [
            "Enter product ID: P-01\n",
            "Product:P-01, Price: 9.95$\n"
          ]
        }
      ]
    }
  ]
}