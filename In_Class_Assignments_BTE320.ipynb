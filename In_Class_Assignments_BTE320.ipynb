{
  "nbformat": 4,
  "nbformat_minor": 0,
  "metadata": {
    "colab": {
      "provenance": [],
      "authorship_tag": "ABX9TyPMfmWa7/xrs0oDjavFxYBc",
      "include_colab_link": true
    },
    "kernelspec": {
      "name": "python3",
      "display_name": "Python 3"
    },
    "language_info": {
      "name": "python"
    }
  },
  "cells": [
    {
      "cell_type": "markdown",
      "metadata": {
        "id": "view-in-github",
        "colab_type": "text"
      },
      "source": [
        "<a href=\"https://colab.research.google.com/github/alvarovillagranm/BTE320/blob/main/In_Class_Assignments_BTE320.ipynb\" target=\"_parent\"><img src=\"https://colab.research.google.com/assets/colab-badge.svg\" alt=\"Open In Colab\"/></a>"
      ]
    },
    {
      "cell_type": "code",
      "execution_count": null,
      "metadata": {
        "colab": {
          "base_uri": "https://localhost:8080/"
        },
        "id": "l_iKfBsUgfj6",
        "outputId": "e6e26067-47d2-4e49-b178-c5b3daddc0d8"
      },
      "outputs": [
        {
          "output_type": "stream",
          "name": "stdout",
          "text": [
            "Enter Sales ($): 12000\n",
            "Enter Costs of Good sold (%): 40\n",
            "Enter Tax Rate (%): 30\n",
            "Cost of Goods sold: $4800.0\n",
            "Gross Profit: $7200.0\n",
            "Taxes Paid: $2160.0\n",
            "Net Income: $5040.0\n"
          ]
        }
      ],
      "source": [
        "# Inputs: sales, cogs_pct, tax_rate\n",
        "sales = float(input(\"Enter Sales ($): \"))\n",
        "\n",
        "cogs_pct = float(input(\"Enter Costs of Good sold (%): \"))\n",
        "\n",
        "tax_rate = float(input(\"Enter Tax Rate (%): \"))\n",
        "\n",
        "\"\"\"\n",
        "I did float for cogs pct because what if it is 40.3% COGS\n",
        "\"\"\"\n",
        "\n",
        "#Processes: calculate actual COGS\n",
        "cogs = sales*cogs_pct/100\n",
        "\n",
        "grossProfit = sales - cogs\n",
        "\n",
        "taxes = grossProfit * (tax_rate/100)\n",
        "\n",
        "netIncome = grossProfit - taxes\n",
        "\n",
        "#Outputs: display cogs and grossProfit\n",
        "print(f\"Cost of Goods sold: ${cogs}\")\n",
        "print(f\"Gross Profit: ${grossProfit}\")\n",
        "print(f\"Taxes Paid: ${taxes}\")\n",
        "print(f\"Net Income: ${netIncome}\")\n"
      ]
    },
    {
      "cell_type": "code",
      "source": [
        "#Inputs: annual demand, reorder cost, holding cost\n",
        "demand : int(input(\"Enter Demand (Units/year): \"))\n",
        "\n",
        "reorder: float(input(\"Enter Reorder Cost ($/unit): \"))\n",
        "\n",
        "holding: float(input(\"Enter Holding Cost ($/unit/year): \"))\n",
        "\n",
        "#Processes : Calculate Economic Order Quantity (EOQ), minimize annual ordering and storing costs\n",
        "\n",
        "eoq= ((2*demand*reorder)/holding)**.5\n",
        "\n",
        "#Outputs: Display EOQ\n",
        "\n",
        "print(f\"Economic Order Quantity: {EOQ} units\")"
      ],
      "metadata": {
        "colab": {
          "base_uri": "https://localhost:8080/",
          "height": 263
        },
        "id": "xz0Q-bkSJPzm",
        "outputId": "b889a3d8-b5b0-4624-8eb5-4cbe7dd847fa"
      },
      "execution_count": 9,
      "outputs": [
        {
          "name": "stdout",
          "output_type": "stream",
          "text": [
            "Enter Demand (Units/year): 100\n",
            "Enter Reorder Cost ($/unit): 1.5\n",
            "Enter Holding Cost ($/unit/year): 3\n"
          ]
        },
        {
          "output_type": "error",
          "ename": "NameError",
          "evalue": "name 'demand' is not defined",
          "traceback": [
            "\u001b[0;31m---------------------------------------------------------------------------\u001b[0m",
            "\u001b[0;31mNameError\u001b[0m                                 Traceback (most recent call last)",
            "\u001b[0;32m/tmp/ipython-input-3156354319.py\u001b[0m in \u001b[0;36m<cell line: 0>\u001b[0;34m()\u001b[0m\n\u001b[1;32m      8\u001b[0m \u001b[0;31m#Processes : Calculate Economic Order Quantity (EOQ), minimize annual ordering and storing costs\u001b[0m\u001b[0;34m\u001b[0m\u001b[0;34m\u001b[0m\u001b[0m\n\u001b[1;32m      9\u001b[0m \u001b[0;34m\u001b[0m\u001b[0m\n\u001b[0;32m---> 10\u001b[0;31m \u001b[0meoq\u001b[0m\u001b[0;34m=\u001b[0m \u001b[0;34m(\u001b[0m\u001b[0;34m(\u001b[0m\u001b[0;36m2\u001b[0m\u001b[0;34m*\u001b[0m\u001b[0mdemand\u001b[0m\u001b[0;34m*\u001b[0m\u001b[0mreorder\u001b[0m\u001b[0;34m)\u001b[0m\u001b[0;34m/\u001b[0m\u001b[0mholding\u001b[0m\u001b[0;34m)\u001b[0m\u001b[0;34m**\u001b[0m\u001b[0;36m.5\u001b[0m\u001b[0;34m\u001b[0m\u001b[0;34m\u001b[0m\u001b[0m\n\u001b[0m\u001b[1;32m     11\u001b[0m \u001b[0;34m\u001b[0m\u001b[0m\n\u001b[1;32m     12\u001b[0m \u001b[0;31m#Outputs: Display EOQ\u001b[0m\u001b[0;34m\u001b[0m\u001b[0;34m\u001b[0m\u001b[0m\n",
            "\u001b[0;31mNameError\u001b[0m: name 'demand' is not defined"
          ]
        }
      ]
    }
  ]
}